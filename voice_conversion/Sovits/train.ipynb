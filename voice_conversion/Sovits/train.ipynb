{
  "cells": [
    {
      "cell_type": "markdown",
      "source": [
        "# **Sovits (train)**\n",
        "\n",
        "Author: Francis Hu\n",
        "\n",
        "E-mail: francishr@whu.edu.cn\n",
        "\n",
        "QQ: 2235306122\n",
        "\n",
        "BILIBILI: https://space.bilibili.com/636704927\n",
        "\n",
        "Repository: https://github.com/Francis-Komizu/Sovits"
      ],
      "metadata": {
        "id": "rzB2LmWAI7jy"
      }
    },
    {
      "cell_type": "markdown",
      "metadata": {
        "id": "sv9u3N_UTeoL"
      },
      "source": [
        "# Set up"
      ]
    },
    {
      "cell_type": "code",
      "execution_count": null,
      "metadata": {
        "id": "itU0ZbbQTooy"
      },
      "outputs": [],
      "source": [
        "!git clone https://github.com/Francis-Komizu/Sovits\n",
        "!git clone https://github.com/bshall/hubert\n",
        "%cd Sovits\n",
        "!pip install -r requirements.txt\n",
        "!sudo apt-get install espeak -y"
      ]
    },
    {
      "cell_type": "code",
      "execution_count": null,
      "metadata": {
        "id": "d4Ti2PVNTu77"
      },
      "outputs": [],
      "source": [
        "%cd /content/Sovits/monotonic_align\n",
        "!python setup.py build_ext --inplace\n",
        "%cd .."
      ]
    },
    {
      "cell_type": "markdown",
      "metadata": {
        "id": "7MFR9gv7TzQU"
      },
      "source": [
        "# Prepare dataset\n",
        "\n",
        "Get your own data to the workspace! The dataset should look like:\n",
        "\n",
        "```\n",
        "└───wavs\n",
        "    ├───dev\n",
        "    │   ├───LJ001-0001.wav\n",
        "    │   ├───...\n",
        "    │   └───LJ050-0278.wav\n",
        "    └───train\n",
        "        ├───LJ002-0332.wav\n",
        "        ├───...\n",
        "        └───LJ047-0007.wav\n",
        "\n",
        "```\n",
        "\n"
      ]
    },
    {
      "cell_type": "code",
      "execution_count": null,
      "metadata": {
        "id": "usBIQeojT1G0"
      },
      "outputs": [],
      "source": [
        "# just an example\n",
        "!cp /content/drive/MyDrive/Soft-VC/AccelSpeech-Full.zip /content/Sovits\n",
        "!unzip AccelSpeech-Full.zip"
      ]
    },
    {
      "cell_type": "markdown",
      "source": [
        "# Extract speech units\n",
        "\n",
        "Utilize the content encoder to extract speech units in the audio. \n",
        "\n",
        "For more information, refer to [this repo](https://github.com/bshall/hubert)."
      ],
      "metadata": {
        "id": "SqvVOGq6KOtw"
      }
    },
    {
      "cell_type": "code",
      "source": [
        "%cd ../hubert\n",
        "!python3 encode.py soft path/to/wavs/directory path/to/soft/directory --extension .wav\n",
        "%cd ../Sovits"
      ],
      "metadata": {
        "id": "lwJViLpvKSoA"
      },
      "execution_count": null,
      "outputs": []
    },
    {
      "cell_type": "markdown",
      "source": [
        "Then you should make filelists for both your training and validation files. The filelists should look like:\n",
        "\n",
        "```\n",
        "path/to/wav|path/to/unit\n",
        "...\n",
        "\n",
        "```\n",
        "\n",
        "You may use the following code to generate them!"
      ],
      "metadata": {
        "id": "PH96SHLLPxMQ"
      }
    },
    {
      "cell_type": "code",
      "source": [
        "import os\n",
        "\n",
        "# generator filelists\n",
        "\n",
        "def take_num(path):\n",
        "  filename = os.path.split(path)[1].replace('.wav', '')\n",
        "  return filename\n",
        "\n",
        "def generate_filelist(wav_dir, unit_dir, save_path):\n",
        "  pairs = []\n",
        "  wav_files = os.listdir(wav_dir)\n",
        "  wav_files.sort(key=take_num)\n",
        "  unit_files = os.listdir(unit_dir)\n",
        "  unit_files.sort(key=take_num)\n",
        "  for (wav_file, unit_file) in zip(wav_files, unit_files):\n",
        "    wav_path = os.path.join(wav_dir, wav_file)\n",
        "    unit_path = os.path.join(unit_dir, unit_file)\n",
        "    pair = f'{wav_path}|{unit_path}'\n",
        "    pairs.append(pair)\n",
        "\n",
        "  with open(save_path, 'w', encoding='utf-8') as f:\n",
        "    for pair in pairs:\n",
        "      f.write(pair + '\\n')\n",
        "\n",
        "# specifiy your own directory path!\n",
        "train_wav_dir = 'your wavs directory for training'\n",
        "val_wav_dir = 'your wavs directory for validation'\n",
        "train_unit_dir = 'your units directory for training'\n",
        "val_unit_dir = 'your units directory for validation'\n",
        "\n",
        "# you may change them but you should also update your configuration file\n",
        "train_filelist_path = 'filelists/train_filelist.txt'\n",
        "val_filelist_path = 'filelists/val_filelist.txt'\n",
        "generate_filelist(train_wav_dir, train_unit_dir, train_filelist_path)\n",
        "generate_filelist(val_wav_dir, val_unit_dir, val_filelist_path)"
      ],
      "metadata": {
        "id": "3y4w9vL4OzMF"
      },
      "execution_count": null,
      "outputs": []
    },
    {
      "cell_type": "markdown",
      "source": [
        "# Train model"
      ],
      "metadata": {
        "id": "-0WMTGXAKVER"
      }
    },
    {
      "cell_type": "code",
      "execution_count": null,
      "metadata": {
        "id": "qEXe3shgVR3z"
      },
      "outputs": [],
      "source": [
        "!mkdir /content/Sovits/logs\n",
        "!mkdir /content/Sovits/logs/sovtis_base"
      ]
    },
    {
      "cell_type": "code",
      "source": [
        "# To load the \"latest\" model to log directory\n",
        "!cp /content/drive/MyDrive/Soft-VC/G_tmp.pth /content/Sovits/logs/sovtis_base/G_1000.pth\n",
        "!cp /content/drive/MyDrive/Soft-VC/D_tmp.pth /content/Sovits/logs/sovtis_base/D_1000.pth"
      ],
      "metadata": {
        "id": "2FGHL-d7jELK"
      },
      "execution_count": null,
      "outputs": []
    },
    {
      "cell_type": "code",
      "execution_count": null,
      "metadata": {
        "colab": {
          "base_uri": "https://localhost:8080/"
        },
        "id": "gYnYbnOaWf76",
        "outputId": "1c4de82a-cbd2-42d7-d4e3-b57a643e3ce3"
      },
      "outputs": [
        {
          "output_type": "stream",
          "name": "stdout",
          "text": [
            "INFO:sovtis_base:Train Epoch: 147 [32%]\n",
            "INFO:sovtis_base:[2.1933271884918213, 2.3408265113830566, 6.2159423828125, 20.863235473632812, 1.0626306533813477, 0.8173456788063049, 55600, 0.00019633378788836418]\n",
            "INFO:sovtis_base:Train Epoch: 147 [84%]\n",
            "INFO:sovtis_base:[2.820115089416504, 2.159792184829712, 5.202322483062744, 18.17592430114746, 1.080228328704834, 0.6188734173774719, 55800, 0.00019633378788836418]\n",
            "INFO:sovtis_base:====> Epoch: 147\n",
            "INFO:sovtis_base:Train Epoch: 148 [37%]\n",
            "INFO:sovtis_base:[1.4652940034866333, 2.870680332183838, 10.414350509643555, 25.629148483276367, 1.092608094215393, 0.5378222465515137, 56000, 0.00019630924616487812]\n",
            "INFO:sovtis_base:Saving model and optimizer state at iteration 148 to ./logs/sovtis_base/G_sovtis_base.pth\n",
            "INFO:sovtis_base:Saving model and optimizer state at iteration 148 to ./logs/sovtis_base/D_sovtis_base.pth\n",
            "INFO:sovtis_base:Train Epoch: 148 [89%]\n",
            "INFO:sovtis_base:[2.627272605895996, 2.2031548023223877, 2.5312068462371826, 16.331735610961914, 1.088110089302063, 0.7324950098991394, 56200, 0.00019630924616487812]\n",
            "INFO:sovtis_base:====> Epoch: 148\n",
            "INFO:sovtis_base:Train Epoch: 149 [42%]\n",
            "INFO:sovtis_base:[2.4500858783721924, 2.570416212081909, 7.480277061462402, 23.2657413482666, 1.074811339378357, 0.6313467621803284, 56400, 0.0001962847075091075]\n",
            "INFO:sovtis_base:Train Epoch: 149 [95%]\n",
            "INFO:sovtis_base:[2.4174964427948, 2.3352622985839844, 5.579990863800049, 20.743865966796875, 1.0745460987091064, 0.8085729479789734, 56600, 0.0001962847075091075]\n",
            "INFO:sovtis_base:====> Epoch: 149\n"
          ]
        }
      ],
      "source": [
        "!python train.py -c configs/sovits.json -m sovtis_base"
      ]
    },
    {
      "cell_type": "markdown",
      "source": [
        "# References\n",
        "\n",
        "https://github.com/bshall/acoustic-model\n",
        "\n",
        "https://github.com/jaywalnut310/vits"
      ],
      "metadata": {
        "id": "ZOtoFDjMTj4_"
      }
    }
  ],
  "metadata": {
    "accelerator": "GPU",
    "colab": {
      "collapsed_sections": [],
      "name": "Sovits",
      "provenance": []
    },
    "gpuClass": "standard",
    "kernelspec": {
      "display_name": "Python 3",
      "name": "python3"
    },
    "language_info": {
      "name": "python"
    }
  },
  "nbformat": 4,
  "nbformat_minor": 0
}
